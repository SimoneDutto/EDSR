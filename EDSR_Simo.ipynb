{
  "nbformat": 4,
  "nbformat_minor": 0,
  "metadata": {
    "colab": {
      "name": "EDSR Simo.ipynb",
      "provenance": [],
      "collapsed_sections": [],
      "toc_visible": true,
      "include_colab_link": true
    },
    "kernelspec": {
      "name": "python3",
      "display_name": "Python 3"
    },
    "accelerator": "GPU"
  },
  "cells": [
    {
      "cell_type": "markdown",
      "metadata": {
        "id": "view-in-github",
        "colab_type": "text"
      },
      "source": [
        "<a href=\"https://colab.research.google.com/github/SimoneDutto/EDSR/blob/master/EDSR_Simo.ipynb\" target=\"_parent\"><img src=\"https://colab.research.google.com/assets/colab-badge.svg\" alt=\"Open In Colab\"/></a>"
      ]
    },
    {
      "cell_type": "markdown",
      "metadata": {
        "id": "G0LM6hcVKM__",
        "colab_type": "text"
      },
      "source": [
        "# Setup\n",
        "\n",
        "\n",
        "1.   cloning repo and printing current WC\n",
        "2.   getting models and unpacking \n",
        "3.   getting db 2k and unpacking or take it from gdrive\n",
        "4.   getting db SVHN and unpacking to put in the WC from drive\n",
        "TODO: save models and DB into drive and take them from there\n",
        "\n"
      ]
    },
    {
      "cell_type": "code",
      "metadata": {
        "id": "E11Z8O5je3VY",
        "colab_type": "code",
        "colab": {}
      },
      "source": [
        "!git clone https://github.com/SimoneDutto/EDSR.git\n",
        "from google.colab import drive\n",
        "\n",
        "\n",
        "drive.mount('/content/gdrive')\n",
        "!7z x /content/gdrive/My\\ Drive/Progetto\\ ML/model_pytorch.tar -oEDSR/models/\n",
        "\n",
        "#!7z x /content/gdrive/My\\ Drive/Progetto\\ ML/DIV2K.tar\n",
        "!7z x /content/gdrive/My\\ Drive/Progetto\\ ML/SVNH.zip\n",
        "!7z x /content/gdrive/My\\ Drive/Progetto\\ ML/benchmark.zip"
      ],
      "execution_count": 0,
      "outputs": []
    },
    {
      "cell_type": "markdown",
      "metadata": {
        "id": "K1U9Vv1KAu_8",
        "colab_type": "text"
      },
      "source": [
        "## To download DIV2K and model pretrained"
      ]
    },
    {
      "cell_type": "code",
      "metadata": {
        "id": "c8Yzh9CvTDJ9",
        "colab_type": "code",
        "colab": {}
      },
      "source": [
        "!wget https://cv.snu.ac.kr/research/EDSR/DIV2K.tar\n",
        "!7z x DIV2K.tar.1\n",
        "!wget https://cv.snu.ac.kr/research/EDSR/model_pytorch.tar\n",
        "!7z e model_pytorch.tar -omodels/\n",
        "!wget https://cv.snu.ac.kr/research/EDSR/benchmark.tar\n",
        "!7z e benchmark.tar -obenchmark/"
      ],
      "execution_count": 0,
      "outputs": []
    },
    {
      "cell_type": "code",
      "metadata": {
        "id": "9vhgckf5KXdo",
        "colab_type": "code",
        "colab": {}
      },
      "source": [
        "#!rm -rf EDSR-PyTorch/"
      ],
      "execution_count": 0,
      "outputs": []
    },
    {
      "cell_type": "code",
      "metadata": {
        "id": "JqvF9oP7aEfS",
        "colab_type": "code",
        "colab": {}
      },
      "source": [
        "# utility function to prepare dataset\n",
        "xdotool click --repeat 100 --delay 1000 1 #autoclicker\n",
        "rename 's/\\.png$/x2.png/' *png # rename each file in a folder\n",
        "!rm -rf /content/SVNH/bin"
      ],
      "execution_count": 0,
      "outputs": []
    },
    {
      "cell_type": "code",
      "metadata": {
        "id": "8ViwB9xM62Td",
        "colab_type": "code",
        "colab": {}
      },
      "source": [
        "%cd /content/EDSR/src/\n",
        "!git pull"
      ],
      "execution_count": 0,
      "outputs": []
    },
    {
      "cell_type": "markdown",
      "metadata": {
        "id": "M12azINZK8t2",
        "colab_type": "text"
      },
      "source": [
        "# Lanching test\n",
        "See demo.sh to modify different tests"
      ]
    },
    {
      "cell_type": "code",
      "metadata": {
        "id": "bFh55rfQsUem",
        "colab_type": "code",
        "outputId": "675616c4-fdc7-471c-e756-b0b3de80bb00",
        "colab": {
          "base_uri": "https://localhost:8080/",
          "height": 34
        }
      },
      "source": [
        "%cd /content/EDSR/src"
      ],
      "execution_count": 0,
      "outputs": [
        {
          "output_type": "stream",
          "text": [
            "/content/EDSR/src\n"
          ],
          "name": "stdout"
        }
      ]
    },
    {
      "cell_type": "code",
      "metadata": {
        "id": "5O2QY8sUK8Zx",
        "colab_type": "code",
        "colab": {}
      },
      "source": [
        "!sh demo.sh # generic test"
      ],
      "execution_count": 0,
      "outputs": []
    },
    {
      "cell_type": "markdown",
      "metadata": {
        "id": "aLWCQYTCLoS_",
        "colab_type": "text"
      },
      "source": [
        "# Train Phase\n",
        "lauch train\n"
      ]
    },
    {
      "cell_type": "code",
      "metadata": {
        "id": "y3vMedxxJ9Ra",
        "colab_type": "code",
        "colab": {}
      },
      "source": [
        "!python main.py --model EDSR --scale 2 --patch_size 96 --save edsr_baseline_x2 --reset --ext sep_reset --dir_data ../  --epochs 20 --lr 1e-2"
      ],
      "execution_count": 0,
      "outputs": []
    },
    {
      "cell_type": "code",
      "metadata": {
        "id": "EXZe8GHkd74G",
        "colab_type": "code",
        "colab": {}
      },
      "source": [
        "!python main.py --model EDSR --scale 2 --patch_size 10 --data_range 1-390/391-400 --save edsr_baseline_x2 --reset --ext sep_reset --dir_data ../../ --data_train SVNH --epochs 30 --loss 1*L1"
      ],
      "execution_count": 0,
      "outputs": []
    },
    {
      "cell_type": "markdown",
      "metadata": {
        "id": "jS-2cS75BLS-",
        "colab_type": "text"
      },
      "source": [
        "# Block to evaluate grafically models "
      ]
    },
    {
      "cell_type": "code",
      "metadata": {
        "id": "WyjMg2jIbWhL",
        "colab_type": "code",
        "colab": {}
      },
      "source": [
        "!python main.py --data_test Demo --scale 2 --pre_train /content/gdrive/My\\ Drive/Progetto\\ ML/models/experiment_19/edsr_baseline_x2/model/model_best.pt --test_only --save_results --save test0\n",
        "!python main.py --data_test Demo --scale 2 --pre_train /content/gdrive/My\\ Drive/Progetto\\ ML/models/experiment_20/edsr_baseline_x2/model/model_best.pt --test_only --save_results --save test1\n",
        "!python main.py --data_test Demo --scale 2 --pre_train /content/gdrive/My\\ Drive/Progetto\\ ML/models/experiment_21/edsr_baseline_x2/model/model_best.pt --test_only --save_results --save test2\n",
        "!python main.py --data_test Demo --scale 2 --pre_train /content/gdrive/My\\ Drive/Progetto\\ ML/models/experiment_22/edsr_baseline_x2/model/model_best.pt --test_only --save_results --save test3\n",
        "!python main.py --data_test Demo --scale 2 --pre_train /content/gdrive/My\\ Drive/Progetto\\ ML/models/experiment_23/edsr_baseline_x2/model/model_best.pt --test_only --save_results --save test4\n",
        "!python main.py --data_test Demo --scale 2 --pre_train /content/gdrive/My\\ Drive/Progetto\\ ML/models/experiment_24/edsr_baseline_x2/model/model_best.pt --test_only --save_results --save test5\n",
        "!python main.py --data_test Demo --scale 2 --pre_train /content/gdrive/My\\ Drive/Progetto\\ ML/models/experiment_25/edsr_baseline_x2/model/model_best.pt --test_only --save_results --save test6\n",
        "!python main.py --data_test Demo --scale 2 --pre_train /content/gdrive/My\\ Drive/Progetto\\ ML/models/experiment_26/edsr_baseline_x2/model/model_best.pt --test_only --save_results --save test7\n",
        "from google.colab import files\n",
        "files.download('../experiment/test0/results-Demo/times_x2_SR.png')\n",
        "files.download('../experiment/test1/results-Demo/times_x2_SR.png')\n",
        "files.download('../experiment/test2/results-Demo/times_x2_SR.png')\n",
        "files.download('../experiment/test3/results-Demo/times_x2_SR.png')\n",
        "files.download('../experiment/test4/results-Demo/times_x2_SR.png')\n",
        "files.download('../experiment/test5/results-Demo/times_x2_SR.png')\n",
        "files.download('../experiment/test6/results-Demo/times_x2_SR.png')\n",
        "files.download('../experiment/test7/results-Demo/times_x2_SR.png')\n"
      ],
      "execution_count": 0,
      "outputs": []
    },
    {
      "cell_type": "code",
      "metadata": {
        "id": "28aCtJ_jLsV7",
        "colab_type": "code",
        "colab": {}
      },
      "source": [
        "# !python main.py --data_test Demo --scale 2 --pre_train /content/gdrive/My\\ Drive/Progetto\\ ML/models/experiment_17/edsr_baseline_x2/model/model_best.pt --test_only --save_results --save test0\n",
        "!python main.py --data_test Demo --scale 2 --pre_train /content/gdrive/My\\ Drive/Progetto\\ ML/models/experiment_12/edsr_baseline_x2/model/model_best.pt --test_only --save_results --save test1\n",
        "!python main.py --data_test Demo --scale 2 --pre_train /content/gdrive/My\\ Drive/Progetto\\ ML/models/experiment_18/edsr_baseline_x2/model/model_best.pt --test_only --save_results --save test2\n",
        "from google.colab import files\n",
        "files.download('../experiment/test0/results-Demo/times_x2_SR.png')\n",
        "files.download('../experiment/test1/results-Demo/times_x2_SR.png')\n",
        "files.download('../experiment/test2/results-Demo/times_x2_SR.png')"
      ],
      "execution_count": 0,
      "outputs": []
    },
    {
      "cell_type": "code",
      "metadata": {
        "id": "c2VJLqtx90UC",
        "colab_type": "code",
        "colab": {}
      },
      "source": [
        "!rm -rf /content/EDSR/experiment/test*"
      ],
      "execution_count": 0,
      "outputs": []
    },
    {
      "cell_type": "markdown",
      "metadata": {
        "id": "MtWac8uu-2Xm",
        "colab_type": "text"
      },
      "source": [
        "# Test\n",
        "Testing model to evaluate performance\n"
      ]
    },
    {
      "cell_type": "code",
      "metadata": {
        "id": "CDzOo95w7hYk",
        "colab_type": "code",
        "colab": {}
      },
      "source": [
        "!python main.py --data_test DIV2K --dir_data ../.. --data_range 801-900 --scale 2 --pre_train download --test_only --self_ensemble --save_results"
      ],
      "execution_count": 0,
      "outputs": []
    },
    {
      "cell_type": "code",
      "metadata": {
        "colab_type": "code",
        "id": "aUWhDA6B1oVD",
        "colab": {}
      },
      "source": [
        "!python main.py --data_test SVNH --scale 2 --pre_train /content/gdrive/My\\ Drive/Progetto\\ ML/models/experiment_19/edsr_baseline_x2/model/model_best.pt --test_only --save_results --dir_data ../../\n",
        "!python main.py --data_test SVNH --scale 2 --pre_train /content/gdrive/My\\ Drive/Progetto\\ ML/models/experiment_20/edsr_baseline_x2/model/model_best.pt --test_only --save_results --dir_data ../../\n",
        "!python main.py --data_test SVNH --scale 2 --pre_train /content/gdrive/My\\ Drive/Progetto\\ ML/models/experiment_21/edsr_baseline_x2/model/model_best.pt --test_only --save_results --dir_data ../../\n",
        "!python main.py --data_test SVNH --scale 2 --pre_train /content/gdrive/My\\ Drive/Progetto\\ ML/models/experiment_22/edsr_baseline_x2/model/model_best.pt --test_only --save_results --dir_data ../../\n",
        "!python main.py --data_test SVNH --scale 2 --pre_train /content/gdrive/My\\ Drive/Progetto\\ ML/models/experiment_23/edsr_baseline_x2/model/model_best.pt --test_only --save_results --dir_data ../../\n",
        "!python main.py --data_test SVNH --scale 2 --pre_train /content/gdrive/My\\ Drive/Progetto\\ ML/models/experiment_24/edsr_baseline_x2/model/model_best.pt --test_only --save_results --dir_data ../../\n",
        "!python main.py --data_test SVNH --scale 2 --pre_train /content/gdrive/My\\ Drive/Progetto\\ ML/models/experiment_25/edsr_baseline_x2/model/model_best.pt --test_only --save_results --dir_data ../../\n",
        "!python main.py --data_test SVNH --scale 2 --pre_train /content/gdrive/My\\ Drive/Progetto\\ ML/models/experiment_26/edsr_baseline_x2/model/model_best.pt --test_only --save_results --dir_data ../../\n"
      ],
      "execution_count": 0,
      "outputs": []
    },
    {
      "cell_type": "code",
      "metadata": {
        "id": "Mrkw3H_0CCHo",
        "colab_type": "code",
        "colab": {}
      },
      "source": [
        "!python main.py --dir_data ../../ --data_test SVHN  --scale 2 --pre_train download --test_only --self_ensemble --save_result"
      ],
      "execution_count": 0,
      "outputs": []
    },
    {
      "cell_type": "code",
      "metadata": {
        "id": "5agbR9K6QBKb",
        "colab_type": "code",
        "colab": {}
      },
      "source": [
        "!python main.py --data_test Set5 --scale 2 --pre_train /content/gdrive/My\\ Drive/Progetto\\ ML/models/experiment_8/edsr_baseline_x2/model/model_best.pt --test_only --save_results --dir_data ../../ --save test0\n",
        "!python main.py --data_test Set5 --scale 2 --pre_train /content/gdrive/My\\ Drive/Progetto\\ ML/models/experiment_10/edsr_baseline_x2/model/model_best.pt --test_only --save_results --dir_data ../../ --save test1\n",
        "!python main.py --data_test Set5 --scale 2 --pre_train /content/gdrive/My\\ Drive/Progetto\\ ML/models/experiment_11/edsr_baseline_x2/model/model_best.pt --test_only --save_results --dir_data ../../ --save test2\n",
        "!python main.py --data_test Set5 --scale 2 --pre_train /content/gdrive/My\\ Drive/Progetto\\ ML/models/experiment_12/edsr_baseline_x2/model/model_best.pt --test_only --save_results --dir_data ../../ --save test4\n",
        "!python main.py --data_test Set5 --scale 2 --pre_train /content/gdrive/My\\ Drive/Progetto\\ ML/models/experiment_13/edsr_baseline_x2/model/model_best.pt --test_only --save_results --dir_data ../../ --save test5\n",
        "!python main.py --data_test Set5 --scale 2 --pre_train /content/gdrive/My\\ Drive/Progetto\\ ML/models/experiment_14/edsr_baseline_x2/model/model_best.pt --test_only --save_results --dir_data ../../ --save test6\n",
        "!python main.py --data_test Set5 --scale 2 --pre_train /content/gdrive/My\\ Drive/Progetto\\ ML/models/experiment_18/edsr_baseline_x2/model/model_best.pt --test_only --save_results --dir_data ../../ --save test7\n",
        "from google.colab import files\n",
        "files.download('../experiment/test0/results-Set5/0853_x2_SR.png')\n",
        "files.download('../experiment/test1/results-Set5/0853_x2_SR.png')\n",
        "files.download('../experiment/test2/results-Set5/0853_x2_SR.png')\n",
        "files.download('../experiment/test3/results-Set5/0853_x2_SR.png')\n",
        "files.download('../experiment/test4/results-Set5/0853_x2_SR.png')\n",
        "files.download('../experiment/test5/results-Set5/0853_x2_SR.png')\n",
        "files.download('../experiment/test6/results-Set5/0853_x2_SR.png')\n",
        "files.download('../experiment/test7/results-Set5/0853_x2_SR.png')"
      ],
      "execution_count": 0,
      "outputs": []
    },
    {
      "cell_type": "markdown",
      "metadata": {
        "id": "nuqlwQw48B9v",
        "colab_type": "text"
      },
      "source": [
        "# Scale Images/Prepare the enviroment\n"
      ]
    },
    {
      "cell_type": "code",
      "metadata": {
        "id": "koyalrfoAXYy",
        "colab_type": "code",
        "colab": {}
      },
      "source": [
        "!7z x /content/benchmark.zip \n",
        "!rm -rf /content/benchmark"
      ],
      "execution_count": 0,
      "outputs": []
    },
    {
      "cell_type": "code",
      "metadata": {
        "id": "EsWL1oO18H4p",
        "colab_type": "code",
        "colab": {}
      },
      "source": [
        "!python /content/EDSR/src/scaler.py -i /content/train -o /content/SVNH_lr -r 2"
      ],
      "execution_count": 0,
      "outputs": []
    },
    {
      "cell_type": "code",
      "metadata": {
        "id": "QFpWIjvEBGvi",
        "colab_type": "code",
        "colab": {}
      },
      "source": [
        "!7z x gdrive/My\\ Drive/Progetto\\ ML/SVNH.zip"
      ],
      "execution_count": 0,
      "outputs": []
    },
    {
      "cell_type": "code",
      "metadata": {
        "id": "qoMiCAiAEQ_A",
        "colab_type": "code",
        "colab": {}
      },
      "source": [
        "%cd SVHN\n",
        "!7z a -r /content/benchmark/ *"
      ],
      "execution_count": 0,
      "outputs": []
    },
    {
      "cell_type": "code",
      "metadata": {
        "id": "1CsXbsZIE0gr",
        "colab_type": "code",
        "colab": {}
      },
      "source": [
        "!rm -rf /content/DIV2K\n",
        "\n",
        "!7z a SVHN_500.zip /content/SVNH_lr/*"
      ],
      "execution_count": 0,
      "outputs": []
    },
    {
      "cell_type": "code",
      "metadata": {
        "id": "rhT4nc3PIBKo",
        "colab_type": "code",
        "colab": {}
      },
      "source": [
        "!7z x /content/train.zip"
      ],
      "execution_count": 0,
      "outputs": []
    }
  ]
}